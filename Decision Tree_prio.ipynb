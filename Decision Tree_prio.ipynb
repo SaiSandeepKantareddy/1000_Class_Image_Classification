{
 "cells": [
  {
   "cell_type": "code",
   "execution_count": 47,
   "metadata": {},
   "outputs": [],
   "source": [
    "import random\n",
    "import numpy as np\n",
    "import pandas as pd\n",
    "from sklearn import metrics\n",
    "import matplotlib.pyplot as plt"
   ]
  },
  {
   "cell_type": "code",
   "execution_count": 59,
   "metadata": {},
   "outputs": [],
   "source": [
    "class Node:\n",
    "\n",
    "    def __init__(self, x, y, indexes, min_leaf=7):\n",
    "        self.x = x\n",
    "        self.y = y\n",
    "        self.indexes = indexes\n",
    "        self.min_leaf = min_leaf\n",
    "        self.row_count = len(indexes)\n",
    "        self.col_count = x.shape[1]\n",
    "        self.val = np.mean(y[indexes])\n",
    "        self.score = float('inf')\n",
    "        self.find_varsplit()\n",
    "\n",
    "    def find_varsplit(self):\n",
    "        \n",
    "        for c in range(self.col_count):\n",
    "            self.find_better_split(c)\n",
    "            \n",
    "        if self.is_leaf:\n",
    "            return\n",
    "        \n",
    "        x = self.split_col\n",
    "        lhs = np.nonzero(x <= self.split)[0]\n",
    "        rhs = np.nonzero(x > self.split)[0]\n",
    "        self.lhs = Node(self.x, self.y, self.indexes[lhs], self.min_leaf)\n",
    "        self.rhs = Node(self.x, self.y, self.indexes[rhs], self.min_leaf)\n",
    "\n",
    "    def find_better_split(self, var_idx):\n",
    "\n",
    "        x = self.x.values[self.indexes, var_idx]\n",
    "\n",
    "        for r in range(self.row_count):\n",
    "            lhs = x <= x[r]\n",
    "            rhs = x > x[r]\n",
    "            if rhs.sum() < self.min_leaf or lhs.sum() < self.min_leaf: continue\n",
    "\n",
    "            curr_score = self.find_score(lhs, rhs)\n",
    "            if curr_score < self.score:\n",
    "                self.var_idx = var_idx\n",
    "                self.score = curr_score\n",
    "                self.split = x[r]\n",
    "\n",
    "    def find_score(self, lhs, rhs):\n",
    "        y = self.y[self.indexes]\n",
    "        lhs_std = y[lhs].std()\n",
    "        rhs_std = y[rhs].std()\n",
    "        return lhs_std * lhs.sum() + rhs_std * rhs.sum()\n",
    "\n",
    "    @property\n",
    "    def split_col(self):\n",
    "        return self.x.values[self.indexes, self.var_idx]\n",
    "\n",
    "    @property\n",
    "    def is_leaf(self):\n",
    "        return self.score == float('inf')\n",
    "\n",
    "    def predict(self, x):\n",
    "        return np.array([self.predict_row(xi) for xi in x])\n",
    "\n",
    "    def predict_row(self, xi):\n",
    "        if self.is_leaf: return self.val\n",
    "        node = self.lhs if xi[self.var_idx] <= self.split else self.rhs\n",
    "        return node.predict_row(xi)"
   ]
  },
  {
   "cell_type": "code",
   "execution_count": 60,
   "metadata": {},
   "outputs": [],
   "source": [
    "class DecisionTreeRegressor:\n",
    "  \n",
    "  def fit(self, X, y, min_leaf = 5):\n",
    "    self.dtree = Node(X, y, np.array(np.arange(len(y))), min_leaf)\n",
    "    return self\n",
    "\n",
    "  def predict(self, X):\n",
    "    return self.dtree.predict(X.values)"
   ]
  },
  {
   "cell_type": "code",
   "execution_count": 61,
   "metadata": {},
   "outputs": [
    {
     "name": "stdout",
     "output_type": "stream",
     "text": [
      "(1000, 81) (460, 80)\n",
      "Index(['Id', 'MSSubClass', 'MSZoning', 'LotFrontage', 'LotArea', 'Street',\n",
      "       'Alley', 'LotShape', 'LandContour', 'Utilities', 'LotConfig',\n",
      "       'LandSlope', 'Neighborhood', 'Condition1', 'Condition2', 'BldgType',\n",
      "       'HouseStyle', 'OverallQual', 'OverallCond', 'YearBuilt', 'YearRemodAdd',\n",
      "       'RoofStyle', 'RoofMatl', 'Exterior1st', 'Exterior2nd', 'MasVnrType',\n",
      "       'MasVnrArea', 'ExterQual', 'ExterCond', 'Foundation', 'BsmtQual',\n",
      "       'BsmtCond', 'BsmtExposure', 'BsmtFinType1', 'BsmtFinSF1',\n",
      "       'BsmtFinType2', 'BsmtFinSF2', 'BsmtUnfSF', 'TotalBsmtSF', 'Heating',\n",
      "       'HeatingQC', 'CentralAir', 'Electrical', '1stFlrSF', '2ndFlrSF',\n",
      "       'LowQualFinSF', 'GrLivArea', 'BsmtFullBath', 'BsmtHalfBath', 'FullBath',\n",
      "       'HalfBath', 'BedroomAbvGr', 'KitchenAbvGr', 'KitchenQual',\n",
      "       'TotRmsAbvGrd', 'Functional', 'Fireplaces', 'FireplaceQu', 'GarageType',\n",
      "       'GarageYrBlt', 'GarageFinish', 'GarageCars', 'GarageArea', 'GarageQual',\n",
      "       'GarageCond', 'PavedDrive', 'WoodDeckSF', 'OpenPorchSF',\n",
      "       'EnclosedPorch', '3SsnPorch', 'ScreenPorch', 'PoolArea', 'PoolQC',\n",
      "       'Fence', 'MiscFeature', 'MiscVal', 'MoSold', 'YrSold', 'SaleType',\n",
      "       'SaleCondition', 'SalePrice'],\n",
      "      dtype='object') Index(['Id', 'MSSubClass', 'MSZoning', 'LotFrontage', 'LotArea', 'Street',\n",
      "       'Alley', 'LotShape', 'LandContour', 'Utilities', 'LotConfig',\n",
      "       'LandSlope', 'Neighborhood', 'Condition1', 'Condition2', 'BldgType',\n",
      "       'HouseStyle', 'OverallQual', 'OverallCond', 'YearBuilt', 'YearRemodAdd',\n",
      "       'RoofStyle', 'RoofMatl', 'Exterior1st', 'Exterior2nd', 'MasVnrType',\n",
      "       'MasVnrArea', 'ExterQual', 'ExterCond', 'Foundation', 'BsmtQual',\n",
      "       'BsmtCond', 'BsmtExposure', 'BsmtFinType1', 'BsmtFinSF1',\n",
      "       'BsmtFinType2', 'BsmtFinSF2', 'BsmtUnfSF', 'TotalBsmtSF', 'Heating',\n",
      "       'HeatingQC', 'CentralAir', 'Electrical', '1stFlrSF', '2ndFlrSF',\n",
      "       'LowQualFinSF', 'GrLivArea', 'BsmtFullBath', 'BsmtHalfBath', 'FullBath',\n",
      "       'HalfBath', 'BedroomAbvGr', 'KitchenAbvGr', 'KitchenQual',\n",
      "       'TotRmsAbvGrd', 'Functional', 'Fireplaces', 'FireplaceQu', 'GarageType',\n",
      "       'GarageYrBlt', 'GarageFinish', 'GarageCars', 'GarageArea', 'GarageQual',\n",
      "       'GarageCond', 'PavedDrive', 'WoodDeckSF', 'OpenPorchSF',\n",
      "       'EnclosedPorch', '3SsnPorch', 'ScreenPorch', 'PoolArea', 'PoolQC',\n",
      "       'Fence', 'MiscFeature', 'MiscVal', 'MoSold', 'YrSold', 'SaleType',\n",
      "       'SaleCondition'],\n",
      "      dtype='object')\n"
     ]
    }
   ],
   "source": [
    "df_train = pd.read_csv(\"./Datasets/q3/train.csv\")\n",
    "df_test = pd.read_csv(\"./Datasets/q3/test.csv\")\n",
    "print(df_train.shape, df_test.shape)\n",
    "print(df_train.columns, df_test.columns)\n",
    "\n",
    "train, test, validate = np.split(df_train.sample(frac=1),[int(.75*len(df_train)), int(1*len(df_train))])"
   ]
  },
  {
   "cell_type": "code",
   "execution_count": 62,
   "metadata": {},
   "outputs": [],
   "source": [
    "x_train = df_train[['LotArea', 'MSZoning', 'LotFrontage', 'LandContour', 'Utilities', 'BldgType',\n",
    "           'HouseStyle', 'OverallQual', 'OverallCond', 'YearBuilt', 'YearRemodAdd', 'MasVnrArea',\n",
    "           'Foundation', '1stFlrSF', '2ndFlrSF', 'GarageArea', 'WoodDeckSF', 'MoSold',\n",
    "           'YrSold']]\n",
    "y_train = df_train['SalePrice']\n",
    "\n",
    "x_train = pd.concat([x_train, pd.get_dummies(x_train['MSZoning'], prefix='MSZoning')], axis=1)\n",
    "x_train.drop(['MSZoning'], axis=1, inplace=True)\n",
    "\n",
    "x_train = pd.concat([x_train, pd.get_dummies(x_train['LandContour'], prefix='LandContour')], axis=1)\n",
    "x_train.drop(['LandContour'], axis=1, inplace=True)\n",
    "\n",
    "x_train = pd.concat([x_train, pd.get_dummies(x_train['Utilities'], prefix='Utilities')], axis=1)\n",
    "x_train.drop(['Utilities'], axis=1, inplace=True)\n",
    "\n",
    "x_train = pd.concat([x_train, pd.get_dummies(x_train['BldgType'], prefix='BldgType')], axis=1)\n",
    "x_train.drop(['BldgType'], axis=1, inplace=True)\n",
    "\n",
    "x_train = pd.concat([x_train, pd.get_dummies(x_train['HouseStyle'], prefix='HouseStyle')], axis=1)\n",
    "x_train.drop(['HouseStyle'], axis=1, inplace=True)\n",
    "\n",
    "x_train = pd.concat([x_train, pd.get_dummies(x_train['Foundation'], prefix='Foundation')], axis=1)\n",
    "x_train.drop(['Foundation'], axis=1, inplace=True)"
   ]
  },
  {
   "cell_type": "code",
   "execution_count": 63,
   "metadata": {},
   "outputs": [
    {
     "data": {
      "text/plain": [
       "LotArea                int64\n",
       "LotFrontage          float64\n",
       "OverallQual            int64\n",
       "OverallCond            int64\n",
       "YearBuilt              int64\n",
       "YearRemodAdd           int64\n",
       "MasVnrArea           float64\n",
       "1stFlrSF               int64\n",
       "2ndFlrSF               int64\n",
       "GarageArea             int64\n",
       "WoodDeckSF             int64\n",
       "MoSold                 int64\n",
       "YrSold                 int64\n",
       "MSZoning_C (all)       uint8\n",
       "MSZoning_FV            uint8\n",
       "MSZoning_RH            uint8\n",
       "MSZoning_RL            uint8\n",
       "MSZoning_RM            uint8\n",
       "LandContour_Bnk        uint8\n",
       "LandContour_HLS        uint8\n",
       "LandContour_Low        uint8\n",
       "LandContour_Lvl        uint8\n",
       "Utilities_AllPub       uint8\n",
       "Utilities_NoSeWa       uint8\n",
       "BldgType_1Fam          uint8\n",
       "BldgType_2fmCon        uint8\n",
       "BldgType_Duplex        uint8\n",
       "BldgType_Twnhs         uint8\n",
       "BldgType_TwnhsE        uint8\n",
       "HouseStyle_1.5Fin      uint8\n",
       "HouseStyle_1.5Unf      uint8\n",
       "HouseStyle_1Story      uint8\n",
       "HouseStyle_2.5Fin      uint8\n",
       "HouseStyle_2.5Unf      uint8\n",
       "HouseStyle_2Story      uint8\n",
       "HouseStyle_SFoyer      uint8\n",
       "HouseStyle_SLvl        uint8\n",
       "Foundation_BrkTil      uint8\n",
       "Foundation_CBlock      uint8\n",
       "Foundation_PConc       uint8\n",
       "Foundation_Slab        uint8\n",
       "Foundation_Stone       uint8\n",
       "Foundation_Wood        uint8\n",
       "dtype: object"
      ]
     },
     "execution_count": 63,
     "metadata": {},
     "output_type": "execute_result"
    }
   ],
   "source": [
    "x_train.dtypes"
   ]
  },
  {
   "cell_type": "code",
   "execution_count": 64,
   "metadata": {},
   "outputs": [
    {
     "name": "stderr",
     "output_type": "stream",
     "text": [
      "/Users/damodharm/opt/anaconda3/lib/python3.7/site-packages/ipykernel_launcher.py:33: RuntimeWarning: invalid value encountered in less_equal\n",
      "/Users/damodharm/opt/anaconda3/lib/python3.7/site-packages/ipykernel_launcher.py:34: RuntimeWarning: invalid value encountered in greater\n",
      "/Users/damodharm/opt/anaconda3/lib/python3.7/site-packages/ipykernel_launcher.py:23: RuntimeWarning: invalid value encountered in less_equal\n",
      "/Users/damodharm/opt/anaconda3/lib/python3.7/site-packages/ipykernel_launcher.py:24: RuntimeWarning: invalid value encountered in greater\n"
     ]
    }
   ],
   "source": [
    "regressor = DecisionTreeRegressor().fit(x_train, y_train)"
   ]
  },
  {
   "cell_type": "code",
   "execution_count": 50,
   "metadata": {},
   "outputs": [],
   "source": [
    "x_test = test[['LotArea', 'MSZoning', 'LotFrontage', 'LandContour', 'Utilities', 'BldgType',\n",
    "           'HouseStyle', 'OverallQual', 'OverallCond', 'YearBuilt', 'YearRemodAdd', 'MasVnrArea',\n",
    "           'Foundation', '1stFlrSF', '2ndFlrSF', 'GarageArea', 'WoodDeckSF', 'MoSold',\n",
    "           'YrSold']]\n",
    "y_test = test['SalePrice']\n",
    "\n",
    "x_test = pd.concat([x_test, pd.get_dummies(x_test['MSZoning'], prefix='MSZoning')], axis=1)\n",
    "x_test.drop(['MSZoning'], axis=1, inplace=True)\n",
    "\n",
    "x_test = pd.concat([x_test, pd.get_dummies(x_test['LandContour'], prefix='LandContour')], axis=1)\n",
    "x_test.drop(['LandContour'], axis=1, inplace=True)\n",
    "\n",
    "x_test = pd.concat([x_test, pd.get_dummies(x_test['Utilities'], prefix='Utilities')], axis=1)\n",
    "x_test.drop(['Utilities'], axis=1, inplace=True)\n",
    "\n",
    "x_test = pd.concat([x_test, pd.get_dummies(x_test['BldgType'], prefix='BldgType')], axis=1)\n",
    "x_test.drop(['BldgType'], axis=1, inplace=True)\n",
    "\n",
    "x_test = pd.concat([x_test, pd.get_dummies(x_test['HouseStyle'], prefix='HouseStyle')], axis=1)\n",
    "x_test.drop(['HouseStyle'], axis=1, inplace=True)\n",
    "\n",
    "x_test = pd.concat([x_test, pd.get_dummies(x_test['Foundation'], prefix='Foundation')], axis=1)\n",
    "x_test.drop(['Foundation'], axis=1, inplace=True)\n",
    "\n",
    "predictions = regressor.predict(x_test)"
   ]
  },
  {
   "cell_type": "code",
   "execution_count": null,
   "metadata": {},
   "outputs": [],
   "source": [
    "metrics.r2_score(y_test, predictions)"
   ]
  },
  {
   "cell_type": "code",
   "execution_count": null,
   "metadata": {},
   "outputs": [],
   "source": [
    "from sklearn.metrics import mean_squared_error\n",
    "from math import sqrt\n",
    "\n",
    "sqrt(mean_squared_error(y_test, predictions))"
   ]
  }
 ],
 "metadata": {
  "kernelspec": {
   "display_name": "Python 3",
   "language": "python",
   "name": "python3"
  },
  "language_info": {
   "codemirror_mode": {
    "name": "ipython",
    "version": 3
   },
   "file_extension": ".py",
   "mimetype": "text/x-python",
   "name": "python",
   "nbconvert_exporter": "python",
   "pygments_lexer": "ipython3",
   "version": "3.7.3"
  }
 },
 "nbformat": 4,
 "nbformat_minor": 2
}
